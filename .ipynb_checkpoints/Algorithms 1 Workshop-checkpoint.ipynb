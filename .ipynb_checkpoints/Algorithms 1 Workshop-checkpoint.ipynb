{
 "cells": [
  {
   "cell_type": "markdown",
   "metadata": {
    "colab_type": "text",
    "id": "c8zuAcfM5lDz"
   },
   "source": [
    "# 1. Big-O Theory exercises\n",
    "\n",
    "1. What is the big-O of the following algorithm? Assume `A` is an array of numbers\n",
    "\n",
    "```python\n",
    "def number_in_array(A, num):\n",
    "  for i in range(len(A)):\n",
    "    if A[i] == num:\n",
    "      return True\n",
    "  return False\n",
    "```\n",
    "\n",
    "2. What is the big-O of the following algorithm? Assume `A` and `B` are arrays of numbers of the **same length n**\n",
    "\n",
    "```python\n",
    "def number_in_two_arrays(A, B, num):\n",
    "  arr_len = len(A)\n",
    "  for i in range(arr_len):\n",
    "    if A[i] == num:\n",
    "      return True\n",
    "  for i in range(arr_len):\n",
    "    if B[i] == num:\n",
    "      return True\n",
    "  return False\n",
    "```\n",
    "\n",
    "3. What would be the big-O above if `A` was length `n` and `B` was length `m`?\n",
    "\n",
    "4. What is the big-O of the following algorithm? Assume `A` and `B` are arrays of numbers of the **same length n**\n",
    "\n",
    "```python\n",
    "def number_in_two_arrays(A, B, num):\n",
    "  arr_len = len(A)\n",
    "  for i in range(arr_len):\n",
    "    for j in range(arr_len):\n",
    "    if A[i] == B[j]:\n",
    "      return True\n",
    "  return False\n",
    "```"
   ]
  },
  {
   "cell_type": "code",
   "execution_count": null,
   "metadata": {},
   "outputs": [],
   "source": [
    "\"\"\"def number_in_array(A, num):\n",
    "  for i in range(len(A)):      O(1)\n",
    "    if A[i] == num:       O(1) times n\n",
    "      return True         O(1)\n",
    "  return False            O(1)\n",
    "  \n",
    "  Final Answer: O(n)\n",
    "  \"\"\""
   ]
  },
  {
   "cell_type": "code",
   "execution_count": null,
   "metadata": {
    "scrolled": true
   },
   "outputs": [],
   "source": [
    "\"\"\"def number_in_two_arrays(A, B, num):\n",
    "  arr_len = len(A)                   O(1)\n",
    "  for i in range(arr_len):           O(1)\n",
    "    if A[i] == num:                  O(1) times n\n",
    "      return True                    O(1)\n",
    "  for i in range(arr_len):           O(1)\n",
    "    if B[i] == num:                  O(1) times n   \n",
    "      return True                    O(1)\n",
    "  return False                       O(1)         O(2n)\n",
    "  \n",
    "  \n",
    "  Final Answer: O(n)\n",
    "  \"\"\""
   ]
  },
  {
   "cell_type": "code",
   "execution_count": null,
   "metadata": {},
   "outputs": [],
   "source": [
    "\"\"\"What would be the big-O above if A was length n and B was length m?\n",
    "\n",
    "  Final Answer: O(n)\n",
    "\"\"\""
   ]
  },
  {
   "cell_type": "code",
   "execution_count": null,
   "metadata": {
    "scrolled": true
   },
   "outputs": [],
   "source": [
    "\"\"\"def number_in_two_arrays(A, B, num):\n",
    "  arr_len = len(A)            O(1)\n",
    "  for i in range(arr_len):    O(1)\n",
    "    for j in range(arr_len):  O(1) n*n = n^2\n",
    "    if A[i] == B[j]:          O(1)\n",
    "      return True             O(1)\n",
    "  return False\n",
    "  \n",
    "  Final Answer: O(n**2)\n",
    "  \"\"\""
   ]
  },
  {
   "cell_type": "markdown",
   "metadata": {
    "colab_type": "text",
    "id": "4lz1Ha-E_CQ1"
   },
   "source": [
    "# Reverse Sort\n",
    "\n",
    "Rewrite `selection_sort` so that it sorts in **reverse order** instead (biggest element first, smallest last)"
   ]
  },
  {
   "cell_type": "code",
   "execution_count": 3,
   "metadata": {},
   "outputs": [
    {
     "name": "stdout",
     "output_type": "stream",
     "text": [
      "[25, 22, 20, 19, 12, 11]\n"
     ]
    }
   ],
   "source": [
    "def selection_sort(a):\n",
    "    for i in range(len(a)):\n",
    "        max1 = i\n",
    "        for j in range(i,len(a)):\n",
    "            if a[j]>a[max1]:\n",
    "                max1=j\n",
    "        temp = a[i]\n",
    "        a[i] = a[max1]\n",
    "        a[max1] = temp    \n",
    "    print(a)\n",
    "\n",
    "selection_sort([20,25,19,12,11,22])"
   ]
  },
  {
   "cell_type": "markdown",
   "metadata": {
    "colab": {},
    "colab_type": "code",
    "id": "kLzOQr8tAAIG"
   },
   "source": [
    "# Two sum (Brute Force)\n",
    "\n",
    "Two sum. Given an array and a number N, return True if there are numbers A, B in the array such that A + B = N. Otherwise, return False.\n",
    "\n",
    "```\n",
    "two_sum([1, 2, 3, 4], 5) ⇒ True\n",
    "two_sum([3, 4, 6], 6) ⇒ False\n",
    "```\n",
    "\n",
    "Write a brute force $O(n^2)$ algorithm"
   ]
  },
  {
   "cell_type": "code",
   "execution_count": 2,
   "metadata": {},
   "outputs": [
    {
     "name": "stdout",
     "output_type": "stream",
     "text": [
      "True\n",
      "False\n"
     ]
    }
   ],
   "source": [
    "def brute_sum(a,b):\n",
    "    for i, num1 in enumerate(a):\n",
    "        for j, num2 in enumerate(a[i+1:]):\n",
    "            if num1 + num2 == b:\n",
    "                return True\n",
    "    return False;\n",
    "        \n",
    "print(brute_sum([1,2,3,4],5))\n",
    "print(brute_sum([3,4,6],6))"
   ]
  },
  {
   "cell_type": "markdown",
   "metadata": {},
   "source": [
    "# Two Sum (Fast Version)\n",
    "\n",
    "Write a linear time version $O(N)$ for the two sum problem"
   ]
  },
  {
   "cell_type": "code",
   "execution_count": 4,
   "metadata": {},
   "outputs": [
    {
     "name": "stdout",
     "output_type": "stream",
     "text": [
      "{1: 0, 2: 1, 3: 2, 4: 3}\n",
      "True\n",
      "{3: 0, 4: 1, 5: 2}\n",
      "False\n"
     ]
    }
   ],
   "source": [
    "def linear1(arr,target):\n",
    "    index = {num:i for (i, num) in enumerate(arr)}\n",
    "    print(index)\n",
    "    for i in range(len(arr)):\n",
    "        x = arr[i]\n",
    "        y = target-x\n",
    "        if y in index:\n",
    "            if i != index[y]:\n",
    "                return True  \n",
    "    return False\n",
    "\n",
    "print(linear1([1,2,3,4],5))\n",
    "print(linear1([3,4,5],6))"
   ]
  },
  {
   "cell_type": "markdown",
   "metadata": {},
   "source": [
    "# Two Sum (itertools version)\n",
    "\n",
    "Use `itertools.combinations` to write a $O(N)$ algorithm for two sum"
   ]
  },
  {
   "cell_type": "code",
   "execution_count": 5,
   "metadata": {},
   "outputs": [
    {
     "name": "stdout",
     "output_type": "stream",
     "text": [
      "[(1, 2), (1, 3), (1, 4), (2, 3), (2, 4), (3, 4)]\n",
      "True\n",
      "[(3, 4), (3, 6), (4, 6)]\n",
      "False\n"
     ]
    }
   ],
   "source": [
    "from itertools import combinations \n",
    "\n",
    "def itertools(a,b):\n",
    "    c = list(combinations(a,2))\n",
    "    print(c)\n",
    "    for d, e in c:\n",
    "        f = d+e\n",
    "        if f == b:\n",
    "            return True\n",
    "    return False\n",
    "\n",
    "print(itertools([1,2,3,4],5))\n",
    "print(itertools([3,4,6],6))"
   ]
  },
  {
   "cell_type": "markdown",
   "metadata": {},
   "source": [
    "# Linked List\n",
    "\n",
    "Unlike a regular array, a Linked List is a container where inserting a new element somewhere in the middle is $O(1)$.\n",
    "\n",
    "For a regular array inserting an element in the middle is $O(N)$, because we need to \"shift back\" all the elements after it. In practice, we might also have to allocate new memory to fit in the element.\n",
    "\n",
    "A linked list is a series of elements, Node(value, next) which work as follows:\n",
    "\n",
    "The value field is the element value -- python object at that place in the list (like elements in a python list)\n",
    "\n",
    "The next field points to the next element in the linked list. In python holding a reference to the element does this (the same way a python list holds references to objects)\n",
    "\n",
    "Exercise\n",
    "Implement the Node Class as described above then initialize a list with 5 elements (3 -> 'cat' -> 'dog' -> 55 -> 56)"
   ]
  },
  {
   "cell_type": "code",
   "execution_count": 6,
   "metadata": {},
   "outputs": [
    {
     "name": "stdout",
     "output_type": "stream",
     "text": [
      "3-->cat-->dog-->55-->56\n"
     ]
    }
   ],
   "source": [
    "class Node:\n",
    "    \n",
    "    def __init__(self, value, nxt=None):\n",
    "        self.value = value\n",
    "        self.nxt = nxt\n",
    "        \n",
    "    def __repr__(self):\n",
    "        return str(self.value)\n",
    "    \n",
    "    def set_next(self,n):\n",
    "        self.nxt = n\n",
    "        \n",
    "    def get_next(self):\n",
    "        return self.nxt\n",
    "    \n",
    "laugh1 = Node(3)\n",
    "laugh2 = Node('cat')\n",
    "laugh3 = Node('dog')\n",
    "laugh4 = Node(55)\n",
    "laugh5 = Node(56)\n",
    "laugh1.set_next(laugh2)\n",
    "laugh2.set_next(laugh3)\n",
    "laugh3.set_next(laugh4)\n",
    "laugh4.set_next(laugh5)\n",
    "\n",
    "curr_element = laugh1\n",
    "while curr_element.get_next():\n",
    "    print(curr_element,end=\"\")\n",
    "    print(\"-->\",end=\"\")\n",
    "    curr_element = curr_element.get_next()\n",
    "print(curr_element)"
   ]
  },
  {
   "cell_type": "markdown",
   "metadata": {},
   "source": [
    "# Reversing a linked list\n",
    "\n",
    "Write a $O(N)$ function `reverse_ll` that reverses all the pointers in a linked list:\n",
    "\n",
    "```\n",
    "(a -> b -> c) ⇒ (c -> b -> a)\n",
    "```\n",
    "\n",
    "Note: You don't have to reverse their order in the python tuple/list if that's where you're holding them. Just reverse their `Node` pointers to each other"
   ]
  },
  {
   "cell_type": "code",
   "execution_count": 9,
   "metadata": {},
   "outputs": [
    {
     "name": "stdout",
     "output_type": "stream",
     "text": [
      "56-->55-->dog-->cat-->3\n"
     ]
    }
   ],
   "source": [
    "def reverse(start):\n",
    "    curr = start\n",
    "    while curr.get_next():\n",
    "        print(curr,end=\"\")\n",
    "        print(\"-->\",end=\"\")\n",
    "        curr = curr.get_next()\n",
    "    print(curr)\n",
    "\n",
    "start=laugh1\n",
    "#reverse(laugh1)\n",
    "\n",
    "curr = start\n",
    "prev = None\n",
    "nxt1 = None\n",
    "\n",
    "while curr:\n",
    "    nxt1 = curr.get_next()\n",
    "    curr.set_next(prev)\n",
    "    prev = curr\n",
    "    curr=nxt1\n",
    "\n",
    "start = laugh5\n",
    "reverse(laugh5)"
   ]
  },
  {
   "cell_type": "code",
   "execution_count": null,
   "metadata": {},
   "outputs": [],
   "source": []
  },
  {
   "cell_type": "code",
   "execution_count": null,
   "metadata": {},
   "outputs": [],
   "source": []
  },
  {
   "cell_type": "code",
   "execution_count": null,
   "metadata": {},
   "outputs": [],
   "source": []
  }
 ],
 "metadata": {
  "colab": {
   "authorship_tag": "ABX9TyOATH9BoLFARMvG0o+Vj9NT",
   "collapsed_sections": [],
   "name": "Algorithms 1 Workshop.ipynb",
   "provenance": []
  },
  "kernelspec": {
   "display_name": "Python 3",
   "language": "python",
   "name": "python3"
  },
  "language_info": {
   "codemirror_mode": {
    "name": "ipython",
    "version": 3
   },
   "file_extension": ".py",
   "mimetype": "text/x-python",
   "name": "python",
   "nbconvert_exporter": "python",
   "pygments_lexer": "ipython3",
   "version": "3.8.3"
  }
 },
 "nbformat": 4,
 "nbformat_minor": 1
}
